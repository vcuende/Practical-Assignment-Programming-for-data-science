{
 "cells": [
  {
   "cell_type": "code",
   "execution_count": 36,
   "metadata": {
    "collapsed": true,
    "pycharm": {
     "name": "#%%\n"
    }
   },
   "outputs": [],
   "source": [
    "import pandas as pd\n",
    "import numpy as np"
   ]
  },
  {
   "cell_type": "code",
   "execution_count": 37,
   "metadata": {
    "collapsed": false,
    "pycharm": {
     "name": "#%%\n"
    }
   },
   "outputs": [
    {
     "data": {
      "text/html": [
       "<div>\n",
       "<style scoped>\n",
       "    .dataframe tbody tr th:only-of-type {\n",
       "        vertical-align: middle;\n",
       "    }\n",
       "\n",
       "    .dataframe tbody tr th {\n",
       "        vertical-align: top;\n",
       "    }\n",
       "\n",
       "    .dataframe thead th {\n",
       "        text-align: right;\n",
       "    }\n",
       "</style>\n",
       "<table border=\"1\" class=\"dataframe\">\n",
       "  <thead>\n",
       "    <tr style=\"text-align: right;\">\n",
       "      <th></th>\n",
       "      <th>date</th>\n",
       "      <th>CA</th>\n",
       "      <th>CB</th>\n",
       "      <th>GO</th>\n",
       "      <th>PB</th>\n",
       "      <th>ST</th>\n",
       "    </tr>\n",
       "  </thead>\n",
       "  <tbody>\n",
       "    <tr>\n",
       "      <th>0</th>\n",
       "      <td>2020-01-01</td>\n",
       "      <td>96.39</td>\n",
       "      <td>0.00</td>\n",
       "      <td>0.00</td>\n",
       "      <td>0.00</td>\n",
       "      <td>0.00</td>\n",
       "    </tr>\n",
       "    <tr>\n",
       "      <th>1</th>\n",
       "      <td>2020-01-02</td>\n",
       "      <td>96.85</td>\n",
       "      <td>77.58</td>\n",
       "      <td>143.95</td>\n",
       "      <td>253.28</td>\n",
       "      <td>194.59</td>\n",
       "    </tr>\n",
       "    <tr>\n",
       "      <th>2</th>\n",
       "      <td>2020-01-03</td>\n",
       "      <td>96.84</td>\n",
       "      <td>78.03</td>\n",
       "      <td>145.86</td>\n",
       "      <td>255.12</td>\n",
       "      <td>194.12</td>\n",
       "    </tr>\n",
       "    <tr>\n",
       "      <th>3</th>\n",
       "      <td>2020-01-06</td>\n",
       "      <td>96.67</td>\n",
       "      <td>77.50</td>\n",
       "      <td>147.39</td>\n",
       "      <td>254.16</td>\n",
       "      <td>193.81</td>\n",
       "    </tr>\n",
       "    <tr>\n",
       "      <th>4</th>\n",
       "      <td>2020-01-07</td>\n",
       "      <td>97.00</td>\n",
       "      <td>77.73</td>\n",
       "      <td>147.97</td>\n",
       "      <td>254.36</td>\n",
       "      <td>194.30</td>\n",
       "    </tr>\n",
       "    <tr>\n",
       "      <th>...</th>\n",
       "      <td>...</td>\n",
       "      <td>...</td>\n",
       "      <td>...</td>\n",
       "      <td>...</td>\n",
       "      <td>...</td>\n",
       "      <td>...</td>\n",
       "    </tr>\n",
       "    <tr>\n",
       "      <th>279</th>\n",
       "      <td>2020-12-25</td>\n",
       "      <td>90.32</td>\n",
       "      <td>0.00</td>\n",
       "      <td>0.00</td>\n",
       "      <td>0.00</td>\n",
       "      <td>0.00</td>\n",
       "    </tr>\n",
       "    <tr>\n",
       "      <th>280</th>\n",
       "      <td>2020-12-28</td>\n",
       "      <td>90.34</td>\n",
       "      <td>0.00</td>\n",
       "      <td>175.71</td>\n",
       "      <td>253.55</td>\n",
       "      <td>204.02</td>\n",
       "    </tr>\n",
       "    <tr>\n",
       "      <th>281</th>\n",
       "      <td>2020-12-29</td>\n",
       "      <td>89.99</td>\n",
       "      <td>80.86</td>\n",
       "      <td>176.35</td>\n",
       "      <td>253.82</td>\n",
       "      <td>204.00</td>\n",
       "    </tr>\n",
       "    <tr>\n",
       "      <th>282</th>\n",
       "      <td>2020-12-30</td>\n",
       "      <td>89.68</td>\n",
       "      <td>80.42</td>\n",
       "      <td>177.70</td>\n",
       "      <td>253.84</td>\n",
       "      <td>203.32</td>\n",
       "    </tr>\n",
       "    <tr>\n",
       "      <th>283</th>\n",
       "      <td>2020-12-31</td>\n",
       "      <td>89.94</td>\n",
       "      <td>80.62</td>\n",
       "      <td>178.36</td>\n",
       "      <td>0.00</td>\n",
       "      <td>204.58</td>\n",
       "    </tr>\n",
       "  </tbody>\n",
       "</table>\n",
       "<p>284 rows × 6 columns</p>\n",
       "</div>"
      ],
      "text/plain": [
       "           date     CA     CB      GO      PB      ST\n",
       "0    2020-01-01  96.39   0.00    0.00    0.00    0.00\n",
       "1    2020-01-02  96.85  77.58  143.95  253.28  194.59\n",
       "2    2020-01-03  96.84  78.03  145.86  255.12  194.12\n",
       "3    2020-01-06  96.67  77.50  147.39  254.16  193.81\n",
       "4    2020-01-07  97.00  77.73  147.97  254.36  194.30\n",
       "..          ...    ...    ...     ...     ...     ...\n",
       "279  2020-12-25  90.32   0.00    0.00    0.00    0.00\n",
       "280  2020-12-28  90.34   0.00  175.71  253.55  204.02\n",
       "281  2020-12-29  89.99  80.86  176.35  253.82  204.00\n",
       "282  2020-12-30  89.68  80.42  177.70  253.84  203.32\n",
       "283  2020-12-31  89.94  80.62  178.36    0.00  204.58\n",
       "\n",
       "[284 rows x 6 columns]"
      ]
     },
     "execution_count": 37,
     "metadata": {},
     "output_type": "execute_result"
    }
   ],
   "source": [
    "df = pd.read_csv(\"./files/all/all_2.csv\")\n",
    "df"
   ]
  },
  {
   "cell_type": "markdown",
   "metadata": {
    "collapsed": false,
    "pycharm": {
     "name": "#%% md\n"
    }
   },
   "source": [
    "### Mean Imputer"
   ]
  },
  {
   "cell_type": "code",
   "execution_count": 38,
   "metadata": {
    "collapsed": false,
    "pycharm": {
     "name": "#%%\n"
    }
   },
   "outputs": [
    {
     "data": {
      "text/html": [
       "<div>\n",
       "<style scoped>\n",
       "    .dataframe tbody tr th:only-of-type {\n",
       "        vertical-align: middle;\n",
       "    }\n",
       "\n",
       "    .dataframe tbody tr th {\n",
       "        vertical-align: top;\n",
       "    }\n",
       "\n",
       "    .dataframe thead th {\n",
       "        text-align: right;\n",
       "    }\n",
       "</style>\n",
       "<table border=\"1\" class=\"dataframe\">\n",
       "  <thead>\n",
       "    <tr style=\"text-align: right;\">\n",
       "      <th></th>\n",
       "      <th>date</th>\n",
       "      <th>CA</th>\n",
       "      <th>CB</th>\n",
       "      <th>GO</th>\n",
       "      <th>PB</th>\n",
       "      <th>ST</th>\n",
       "    </tr>\n",
       "  </thead>\n",
       "  <tbody>\n",
       "    <tr>\n",
       "      <th>0</th>\n",
       "      <td>2020-01-01</td>\n",
       "      <td>96.39</td>\n",
       "      <td>80.619331</td>\n",
       "      <td>167.2564</td>\n",
       "      <td>260.346235</td>\n",
       "      <td>185.298785</td>\n",
       "    </tr>\n",
       "    <tr>\n",
       "      <th>1</th>\n",
       "      <td>2020-01-02</td>\n",
       "      <td>96.85</td>\n",
       "      <td>77.580000</td>\n",
       "      <td>143.9500</td>\n",
       "      <td>253.280000</td>\n",
       "      <td>194.590000</td>\n",
       "    </tr>\n",
       "    <tr>\n",
       "      <th>2</th>\n",
       "      <td>2020-01-03</td>\n",
       "      <td>96.84</td>\n",
       "      <td>78.030000</td>\n",
       "      <td>145.8600</td>\n",
       "      <td>255.120000</td>\n",
       "      <td>194.120000</td>\n",
       "    </tr>\n",
       "    <tr>\n",
       "      <th>3</th>\n",
       "      <td>2020-01-06</td>\n",
       "      <td>96.67</td>\n",
       "      <td>77.500000</td>\n",
       "      <td>147.3900</td>\n",
       "      <td>254.160000</td>\n",
       "      <td>193.810000</td>\n",
       "    </tr>\n",
       "    <tr>\n",
       "      <th>4</th>\n",
       "      <td>2020-01-07</td>\n",
       "      <td>97.00</td>\n",
       "      <td>77.730000</td>\n",
       "      <td>147.9700</td>\n",
       "      <td>254.360000</td>\n",
       "      <td>194.300000</td>\n",
       "    </tr>\n",
       "    <tr>\n",
       "      <th>...</th>\n",
       "      <td>...</td>\n",
       "      <td>...</td>\n",
       "      <td>...</td>\n",
       "      <td>...</td>\n",
       "      <td>...</td>\n",
       "      <td>...</td>\n",
       "    </tr>\n",
       "    <tr>\n",
       "      <th>279</th>\n",
       "      <td>2020-12-25</td>\n",
       "      <td>90.32</td>\n",
       "      <td>80.619331</td>\n",
       "      <td>167.2564</td>\n",
       "      <td>260.346235</td>\n",
       "      <td>185.298785</td>\n",
       "    </tr>\n",
       "    <tr>\n",
       "      <th>280</th>\n",
       "      <td>2020-12-28</td>\n",
       "      <td>90.34</td>\n",
       "      <td>80.619331</td>\n",
       "      <td>175.7100</td>\n",
       "      <td>253.550000</td>\n",
       "      <td>204.020000</td>\n",
       "    </tr>\n",
       "    <tr>\n",
       "      <th>281</th>\n",
       "      <td>2020-12-29</td>\n",
       "      <td>89.99</td>\n",
       "      <td>80.860000</td>\n",
       "      <td>176.3500</td>\n",
       "      <td>253.820000</td>\n",
       "      <td>204.000000</td>\n",
       "    </tr>\n",
       "    <tr>\n",
       "      <th>282</th>\n",
       "      <td>2020-12-30</td>\n",
       "      <td>89.68</td>\n",
       "      <td>80.420000</td>\n",
       "      <td>177.7000</td>\n",
       "      <td>253.840000</td>\n",
       "      <td>203.320000</td>\n",
       "    </tr>\n",
       "    <tr>\n",
       "      <th>283</th>\n",
       "      <td>2020-12-31</td>\n",
       "      <td>89.94</td>\n",
       "      <td>80.620000</td>\n",
       "      <td>178.3600</td>\n",
       "      <td>260.346235</td>\n",
       "      <td>204.580000</td>\n",
       "    </tr>\n",
       "  </tbody>\n",
       "</table>\n",
       "<p>284 rows × 6 columns</p>\n",
       "</div>"
      ],
      "text/plain": [
       "           date     CA         CB        GO          PB          ST\n",
       "0    2020-01-01  96.39  80.619331  167.2564  260.346235  185.298785\n",
       "1    2020-01-02  96.85  77.580000  143.9500  253.280000  194.590000\n",
       "2    2020-01-03  96.84  78.030000  145.8600  255.120000  194.120000\n",
       "3    2020-01-06  96.67  77.500000  147.3900  254.160000  193.810000\n",
       "4    2020-01-07  97.00  77.730000  147.9700  254.360000  194.300000\n",
       "..          ...    ...        ...       ...         ...         ...\n",
       "279  2020-12-25  90.32  80.619331  167.2564  260.346235  185.298785\n",
       "280  2020-12-28  90.34  80.619331  175.7100  253.550000  204.020000\n",
       "281  2020-12-29  89.99  80.860000  176.3500  253.820000  204.000000\n",
       "282  2020-12-30  89.68  80.420000  177.7000  253.840000  203.320000\n",
       "283  2020-12-31  89.94  80.620000  178.3600  260.346235  204.580000\n",
       "\n",
       "[284 rows x 6 columns]"
      ]
     },
     "execution_count": 38,
     "metadata": {},
     "output_type": "execute_result"
    }
   ],
   "source": [
    "df.replace(0, np.nan, inplace=True)\n",
    "df.fillna(df.loc[:, ['CA', 'CB', 'GO', 'PB', 'ST']].mean(), inplace=True)\n",
    "df"
   ]
  },
  {
   "cell_type": "code",
   "execution_count": 39,
   "metadata": {
    "collapsed": false,
    "pycharm": {
     "name": "#%%\n"
    }
   },
   "outputs": [],
   "source": [
    "def create_portfolio(assets, weights):\n",
    "    portfolio = {}\n",
    "    assets = assets.replace(\" \",\"\").split(\"/\")\n",
    "    weights = weights.replace(\" \",\"\").split(\"/\")\n",
    "\n",
    "    if not len(assets) == len(weights): return -1\n",
    "\n",
    "    for a, w in zip(assets, weights):\n",
    "        portfolio[a] = w\n",
    "\n",
    "    return portfolio"
   ]
  },
  {
   "cell_type": "code",
   "execution_count": 40,
   "metadata": {
    "collapsed": false,
    "pycharm": {
     "name": "#%%\n"
    }
   },
   "outputs": [
    {
     "name": "stdout",
     "output_type": "stream",
     "text": [
      "-----------------------------\n",
      "Portfolio 1\n",
      "ST: 50%\n",
      "CB: 20%\n",
      "PB: 20%\n",
      "GO: 0%\n",
      "CA: 10%\n",
      "-----------------------------\n",
      "Portfolio 2\n",
      "ST: 10%\n",
      "CB: 20%\n",
      "PB: 20%\n",
      "GO: 40%\n",
      "CA: 10%\n",
      "-----------------------------\n",
      "Portfolio 3\n",
      "ST: 50%\n",
      "CB: 40%\n",
      "PB: 10%\n",
      "GO: 0%\n",
      "CA: 0%\n",
      "-----------------------------\n",
      "Portfolio 4\n",
      "ST: 0%\n",
      "CB: 20%\n",
      "PB: 20%\n",
      "GO: 60%\n",
      "CA: 0%\n",
      "-----------------------------\n"
     ]
    }
   ],
   "source": [
    "assets = [\"ST / CB / PB / GO / CA\",\n",
    "          \"ST / CB / PB / GO / CA\",\n",
    "          \"ST / CB / PB / GO / CA\",\n",
    "          \"ST / CB / PB / GO / CA\"\n",
    "          ]\n",
    "weights = [\"50 / 20 / 20 / 0 / 10\",\n",
    "           \"10 / 20 / 20 / 40 / 10\",\n",
    "           \"50 / 40 / 10 / 0 / 0\",\n",
    "           \"0 / 20 / 20 / 60 / 0\"\n",
    "           ]\n",
    "\n",
    "pandas_dict = {\n",
    "    \"ST\": [],\n",
    "    \"CB\": [],\n",
    "    \"PB\": [],\n",
    "    \"GO\": [],\n",
    "    \"CA\": [],\n",
    "}\n",
    "\n",
    "print(\"-----------------------------\")\n",
    "for index, (a, w) in enumerate(zip(assets, weights)):\n",
    "    portfolio = create_portfolio(a, w)\n",
    "    print(f\"Portfolio {index + 1}\")\n",
    "    for asset in portfolio.keys():\n",
    "        pandas_dict[asset].append(portfolio[asset])\n",
    "        print(f\"{asset}: {portfolio[asset]}%\")\n",
    "    print(\"-----------------------------\")\n",
    "\n",
    "df_portfolio = pd.DataFrame(pandas_dict)"
   ]
  },
  {
   "cell_type": "code",
   "execution_count": 41,
   "metadata": {
    "collapsed": false,
    "pycharm": {
     "name": "#%%\n"
    }
   },
   "outputs": [
    {
     "data": {
      "text/html": [
       "<div>\n",
       "<style scoped>\n",
       "    .dataframe tbody tr th:only-of-type {\n",
       "        vertical-align: middle;\n",
       "    }\n",
       "\n",
       "    .dataframe tbody tr th {\n",
       "        vertical-align: top;\n",
       "    }\n",
       "\n",
       "    .dataframe thead th {\n",
       "        text-align: right;\n",
       "    }\n",
       "</style>\n",
       "<table border=\"1\" class=\"dataframe\">\n",
       "  <thead>\n",
       "    <tr style=\"text-align: right;\">\n",
       "      <th></th>\n",
       "      <th>ST</th>\n",
       "      <th>CB</th>\n",
       "      <th>PB</th>\n",
       "      <th>GO</th>\n",
       "      <th>CA</th>\n",
       "    </tr>\n",
       "  </thead>\n",
       "  <tbody>\n",
       "    <tr>\n",
       "      <th>0</th>\n",
       "      <td>50</td>\n",
       "      <td>20</td>\n",
       "      <td>20</td>\n",
       "      <td>0</td>\n",
       "      <td>10</td>\n",
       "    </tr>\n",
       "    <tr>\n",
       "      <th>1</th>\n",
       "      <td>10</td>\n",
       "      <td>20</td>\n",
       "      <td>20</td>\n",
       "      <td>40</td>\n",
       "      <td>10</td>\n",
       "    </tr>\n",
       "    <tr>\n",
       "      <th>2</th>\n",
       "      <td>50</td>\n",
       "      <td>40</td>\n",
       "      <td>10</td>\n",
       "      <td>0</td>\n",
       "      <td>0</td>\n",
       "    </tr>\n",
       "    <tr>\n",
       "      <th>3</th>\n",
       "      <td>0</td>\n",
       "      <td>20</td>\n",
       "      <td>20</td>\n",
       "      <td>60</td>\n",
       "      <td>0</td>\n",
       "    </tr>\n",
       "  </tbody>\n",
       "</table>\n",
       "</div>"
      ],
      "text/plain": [
       "   ST  CB  PB  GO  CA\n",
       "0  50  20  20   0  10\n",
       "1  10  20  20  40  10\n",
       "2  50  40  10   0   0\n",
       "3   0  20  20  60   0"
      ]
     },
     "execution_count": 41,
     "metadata": {},
     "output_type": "execute_result"
    }
   ],
   "source": [
    "df_portfolio"
   ]
  },
  {
   "cell_type": "code",
   "execution_count": 42,
   "metadata": {
    "collapsed": false,
    "pycharm": {
     "name": "#%%\n"
    }
   },
   "outputs": [],
   "source": [
    "def calculate_shares(date, budget, assets_df, prices_df):\n",
    "    all_res = {}\n",
    "    for i in range(len(assets_df)):\n",
    "        res = {\n",
    "            \"asset\": [],\n",
    "            \"percentage\": [],\n",
    "            \"amount\": [],\n",
    "            \"price\": [],\n",
    "            \"shares\": []\n",
    "        }\n",
    "        # Get the price of each asset on the given date\n",
    "        prices = prices_df.loc[prices_df[\"date\"] == date, assets_df.columns]\n",
    "        res['asset'] = prices.columns.tolist()\n",
    "        res['percentage'] = assets_df.values.astype(int).tolist()[i]\n",
    "        prices_list = prices.values.tolist()[0]\n",
    "        prices_list[res['asset'].index(\"CA\")] = 1\n",
    "        res['price'] = prices_list\n",
    "        res['amount'] = [budget * (p / 100)for p in res['percentage']]\n",
    "        res['shares'] = [round(amount / price, 1) if price != 0 else 0.0 for amount, price in zip(res['amount'], res['price'])]\n",
    "\n",
    "        # Create the output dataframe\n",
    "        output_df = pd.DataFrame(res)\n",
    "        all_res[f\"portfolio_{i}\"] = output_df\n",
    "\n",
    "    return all_res"
   ]
  },
  {
   "cell_type": "code",
   "execution_count": 43,
   "metadata": {},
   "outputs": [],
   "source": [
    "def calculate_late_shares(date, budget, assets_df, prices_df):\n",
    "    all_res = {}\n",
    "    for i in range(len(assets_df)):\n",
    "        res = {\n",
    "            \"asset\": [],\n",
    "            \"percentage\": [],\n",
    "            \"amount\": [],\n",
    "            \"price\": [],\n",
    "            \"shares\": []\n",
    "        }\n",
    "        # Get the price of each asset on the given date\n",
    "        prices = prices_df.loc[prices_df[\"date\"] == date, assets_df.columns]\n",
    "        res['asset'] = prices.columns.tolist()\n",
    "        res['percentage'] = assets_df.values.astype(int).tolist()[i]\n",
    "        prices_list = prices.values.tolist()[0]\n",
    "        prices_list[res['asset'].index(\"CA\")] = 1/(prices_list[res['asset'].index(\"CA\")]/100)\n",
    "        res['price'] = prices_list\n",
    "        res['amount'] = [budget * (p / 100)for p in res['percentage']]\n",
    "        res['shares'] = [round(amount / price, 1) if price != 0 else 0.0 for amount, price in zip(res['amount'], res['price'])]\n",
    "\n",
    "        # Create the output dataframe\n",
    "        output_df = pd.DataFrame(res)\n",
    "        all_res[f\"portfolio_{i}\"] = output_df\n",
    "\n",
    "    return all_res"
   ]
  },
  {
   "cell_type": "code",
   "execution_count": 44,
   "metadata": {
    "collapsed": false,
    "pycharm": {
     "name": "#%%\n"
    }
   },
   "outputs": [],
   "source": [
    "budget = 10000\n",
    "date = \"2020-01-01\"\n",
    "investments = calculate_shares(date, budget, df_portfolio, df)"
   ]
  },
  {
   "cell_type": "code",
   "execution_count": 45,
   "metadata": {
    "collapsed": false,
    "pycharm": {
     "name": "#%%\n"
    }
   },
   "outputs": [
    {
     "name": "stdout",
     "output_type": "stream",
     "text": [
      "--------------------------------------------\n",
      "Investment for portfolio_0:\n",
      "  asset  percentage  amount       price  shares\n",
      "0    ST          50  5000.0  185.298785    27.0\n",
      "1    CB          20  2000.0   80.619331    24.8\n",
      "2    PB          20  2000.0  260.346235     7.7\n",
      "3    GO           0     0.0  167.256400     0.0\n",
      "4    CA          10  1000.0    1.000000  1000.0\n",
      "\n",
      "--------------------------------------------\n",
      "\n",
      "Investment for portfolio_1:\n",
      "  asset  percentage  amount       price  shares\n",
      "0    ST          10  1000.0  185.298785     5.4\n",
      "1    CB          20  2000.0   80.619331    24.8\n",
      "2    PB          20  2000.0  260.346235     7.7\n",
      "3    GO          40  4000.0  167.256400    23.9\n",
      "4    CA          10  1000.0    1.000000  1000.0\n",
      "\n",
      "--------------------------------------------\n",
      "\n",
      "Investment for portfolio_2:\n",
      "  asset  percentage  amount       price  shares\n",
      "0    ST          50  5000.0  185.298785    27.0\n",
      "1    CB          40  4000.0   80.619331    49.6\n",
      "2    PB          10  1000.0  260.346235     3.8\n",
      "3    GO           0     0.0  167.256400     0.0\n",
      "4    CA           0     0.0    1.000000     0.0\n",
      "\n",
      "--------------------------------------------\n",
      "\n",
      "Investment for portfolio_3:\n",
      "  asset  percentage  amount       price  shares\n",
      "0    ST           0     0.0  185.298785     0.0\n",
      "1    CB          20  2000.0   80.619331    24.8\n",
      "2    PB          20  2000.0  260.346235     7.7\n",
      "3    GO          60  6000.0  167.256400    35.9\n",
      "4    CA           0     0.0    1.000000     0.0\n",
      "\n",
      "--------------------------------------------\n",
      "\n"
     ]
    }
   ],
   "source": [
    "print(\"--------------------------------------------\")\n",
    "for elem in investments:\n",
    "    print(f\"Investment for {elem}:\")\n",
    "    print(investments[elem].head())\n",
    "    print(\"\\n--------------------------------------------\\n\")\n"
   ]
  },
  {
   "cell_type": "markdown",
   "metadata": {
    "collapsed": false,
    "pycharm": {
     "name": "#%% md\n"
    }
   },
   "source": [
    "# 1.2 Investment Strategy Performance"
   ]
  },
  {
   "cell_type": "markdown",
   "metadata": {
    "collapsed": false,
    "pycharm": {
     "name": "#%% md\n"
    }
   },
   "source": [
    "## Return"
   ]
  },
  {
   "cell_type": "code",
   "execution_count": 46,
   "metadata": {
    "collapsed": false,
    "pycharm": {
     "name": "#%%\n"
    }
   },
   "outputs": [],
   "source": [
    "current_investments = calculate_late_shares(\"2020-12-31\", budget, df_portfolio, df)"
   ]
  },
  {
   "cell_type": "code",
   "execution_count": 47,
   "metadata": {
    "collapsed": false,
    "pycharm": {
     "name": "#%%\n"
    }
   },
   "outputs": [
    {
     "name": "stdout",
     "output_type": "stream",
     "text": [
      "Return value for portfolio_0: -0.11% (Negative)\n",
      "Return value for portfolio_1: -0.0% (Negative)\n",
      "Return value for portfolio_2: -0.11% (Negative)\n",
      "Return value for portfolio_3: -0.12% (Negative)\n"
     ]
    }
   ],
   "source": [
    "for portfolio, late_portfolio in zip(investments.keys(), current_investments.keys()):\n",
    "\n",
    "    aux_late_portfolio = current_investments[late_portfolio]\n",
    "    current_value = sum(aux_late_portfolio['shares'].iloc[i] * aux_late_portfolio['price'].iloc[i] for i in range(len(aux_late_portfolio)))\n",
    "\n",
    "    aux_portfolio = investments[portfolio]\n",
    "    buy_amount = sum(aux_portfolio['shares'].iloc[i] * aux_portfolio['price'].iloc[i] for i in range(len(aux_portfolio)))\n",
    "    portfolio_return = (current_value - buy_amount) / buy_amount * 100\n",
    "    sign = \"Positive\" if portfolio_return > 0 else \"Negative\"\n",
    "    print(f\"Return value for {portfolio}: {round(portfolio_return, 2)}% ({sign})\")"
   ]
  },
  {
   "cell_type": "markdown",
   "metadata": {
    "collapsed": false,
    "pycharm": {
     "name": "#%% md\n"
    }
   },
   "source": [
    "## Volatility"
   ]
  },
  {
   "cell_type": "code",
   "execution_count": 48,
   "metadata": {
    "collapsed": false,
    "pycharm": {
     "name": "#%%\n"
    }
   },
   "outputs": [],
   "source": [
    "def get_values_from_portfolio(pf):\n",
    "    res = []\n",
    "    for i, day in df.iterrows():\n",
    "        value = 0\n",
    "        for elem in pf['asset'].values:\n",
    "            if elem == 'CA':\n",
    "                value += float(pf.loc[pf['asset'] == elem]['shares'] * day[elem]/100)\n",
    "            else:\n",
    "                value += float(pf.loc[pf['asset'] == elem]['shares'] * day[elem])\n",
    "        res.append(value)\n",
    "    return res"
   ]
  },
  {
   "cell_type": "code",
   "execution_count": 49,
   "metadata": {
    "collapsed": false,
    "pycharm": {
     "name": "#%%\n"
    }
   },
   "outputs": [],
   "source": [
    "def get_mean(values):\n",
    "    n = len(values)\n",
    "    s = sum(values)\n",
    "    mean = s / n\n",
    "    return mean"
   ]
  },
  {
   "cell_type": "code",
   "execution_count": 50,
   "metadata": {
    "collapsed": false,
    "pycharm": {
     "name": "#%%\n"
    }
   },
   "outputs": [],
   "source": [
    "import math\n",
    "def get_std_from_values(values):\n",
    "    n = len(values)\n",
    "    mean = get_mean(values)\n",
    "\n",
    "    sum_diff = sum([(x - mean) ** 2 for x in values])\n",
    "    res = math.sqrt(sum_diff / (n - 1))\n",
    "    return res"
   ]
  },
  {
   "cell_type": "code",
   "execution_count": 51,
   "metadata": {
    "collapsed": false,
    "pycharm": {
     "name": "#%%\n"
    }
   },
   "outputs": [],
   "source": [
    "def get_volatility(std, mean):\n",
    "    res = std / mean * 100\n",
    "    return res"
   ]
  },
  {
   "cell_type": "code",
   "execution_count": 52,
   "metadata": {
    "collapsed": false,
    "pycharm": {
     "name": "#%%\n"
    }
   },
   "outputs": [
    {
     "name": "stdout",
     "output_type": "stream",
     "text": [
      "Volatility for portfolio_0: 3.5%\n",
      "Volatility for portfolio_1: 3.32%\n",
      "Volatility for portfolio_2: 3.92%\n",
      "Volatility for portfolio_3: 4.81%\n"
     ]
    }
   ],
   "source": [
    "for elem in investments.keys():\n",
    "    values = get_values_from_portfolio(investments[elem])\n",
    "    mean = get_mean(values)\n",
    "    std = get_std_from_values(values)\n",
    "    volatility = get_volatility(std, mean)\n",
    "    print(f\"Volatility for {elem}: {round(volatility, 2)}%\")"
   ]
  },
  {
   "cell_type": "markdown",
   "metadata": {
    "collapsed": false,
    "pycharm": {
     "name": "#%% md\n"
    }
   },
   "source": [
    "# 1.3 Tasks related to investment strategies generation"
   ]
  },
  {
   "cell_type": "markdown",
   "metadata": {
    "collapsed": false,
    "pycharm": {
     "name": "#%% md\n"
    }
   },
   "source": [
    "### Portfolio allocation"
   ]
  },
  {
   "cell_type": "code",
   "execution_count": 53,
   "metadata": {
    "collapsed": false,
    "pycharm": {
     "name": "#%%\n"
    }
   },
   "outputs": [
    {
     "name": "stdout",
     "output_type": "stream",
     "text": [
      "Number of valid portfolios: 126\n"
     ]
    }
   ],
   "source": [
    "from itertools import product\n",
    "valid_weights = []\n",
    "for w in product([0, 20, 40, 60, 80, 100], repeat = 5):\n",
    "    if sum(w) == 100:\n",
    "        portfolio_str = \"/\".join(str(i) for i in w)\n",
    "        valid_weights.append(portfolio_str)\n",
    "valid_weights.reverse()\n",
    "print(f\"Number of valid portfolios: {len(valid_weights)}\")"
   ]
  },
  {
   "cell_type": "code",
   "execution_count": 54,
   "metadata": {
    "collapsed": false,
    "pycharm": {
     "name": "#%%\n"
    }
   },
   "outputs": [],
   "source": [
    "assets = [\"ST / CB / PB / GO / CA\"] * len(valid_weights)\n",
    "weights = valid_weights\n",
    "\n",
    "pandas_dict = {\n",
    "    \"ST\": [],\n",
    "    \"CB\": [],\n",
    "    \"PB\": [],\n",
    "    \"GO\": [],\n",
    "    \"CA\": [],\n",
    "}\n",
    "\n",
    "for index, (a, w) in enumerate(zip(assets, weights)):\n",
    "    portfolio = create_portfolio(a, w)\n",
    "    for asset in portfolio.keys():\n",
    "        pandas_dict[asset].append(portfolio[asset])\n",
    "\n",
    "df_portfolio_allocation = pd.DataFrame(pandas_dict)"
   ]
  },
  {
   "cell_type": "code",
   "execution_count": 55,
   "metadata": {
    "collapsed": false,
    "pycharm": {
     "name": "#%%\n"
    }
   },
   "outputs": [],
   "source": [
    "df_portfolio_allocation.to_csv(\"./files/task_2/portfolio_allocations.csv\", index=False)"
   ]
  },
  {
   "cell_type": "markdown",
   "metadata": {
    "collapsed": false,
    "pycharm": {
     "name": "#%% md\n"
    }
   },
   "source": [
    "### Portfolio performance"
   ]
  },
  {
   "cell_type": "code",
   "execution_count": 56,
   "metadata": {
    "collapsed": false,
    "pycharm": {
     "name": "#%%\n"
    }
   },
   "outputs": [],
   "source": [
    "budget = 10000\n",
    "initial_date = \"2020-01-01\"\n",
    "last_date = \"2020-12-31\"\n",
    "investments_126 = calculate_shares(initial_date, budget, df_portfolio_allocation, df)\n",
    "current_investments = calculate_late_shares(last_date, budget, df_portfolio_allocation, df)"
   ]
  },
  {
   "cell_type": "code",
   "execution_count": 57,
   "metadata": {
    "collapsed": false,
    "pycharm": {
     "name": "#%%\n"
    }
   },
   "outputs": [],
   "source": [
    "list_return = []\n",
    "list_volatility = []"
   ]
  },
  {
   "cell_type": "code",
   "execution_count": 58,
   "metadata": {
    "collapsed": false,
    "pycharm": {
     "name": "#%%\n"
    }
   },
   "outputs": [
    {
     "name": "stdout",
     "output_type": "stream",
     "text": [
      "Return value for portfolio_0: -0.02% (Negative)\n",
      "Return value for portfolio_1: -0.06% (Negative)\n",
      "Return value for portfolio_2: -0.06% (Negative)\n",
      "Return value for portfolio_3: -0.15% (Negative)\n",
      "Return value for portfolio_4: -0.06% (Negative)\n",
      "Return value for portfolio_5: -0.09% (Negative)\n",
      "Return value for portfolio_6: -0.09% (Negative)\n",
      "Return value for portfolio_7: -0.19% (Negative)\n",
      "Return value for portfolio_8: -0.09% (Negative)\n",
      "Return value for portfolio_9: -0.09% (Negative)\n",
      "Return value for portfolio_10: -0.19% (Negative)\n",
      "Return value for portfolio_11: -0.09% (Negative)\n",
      "Return value for portfolio_12: -0.12% (Negative)\n",
      "Return value for portfolio_13: -0.19% (Negative)\n",
      "Return value for portfolio_14: -0.09% (Negative)\n",
      "Return value for portfolio_15: 0.07% (Positive)\n",
      "Return value for portfolio_16: 0.07% (Positive)\n",
      "Return value for portfolio_17: -0.02% (Negative)\n",
      "Return value for portfolio_18: 0.07% (Positive)\n",
      "Return value for portfolio_19: 0.07% (Positive)\n",
      "Return value for portfolio_20: -0.02% (Negative)\n",
      "Return value for portfolio_21: 0.07% (Positive)\n",
      "Return value for portfolio_22: 0.05% (Positive)\n",
      "Return value for portfolio_23: -0.02% (Negative)\n",
      "Return value for portfolio_24: 0.07% (Positive)\n",
      "Return value for portfolio_25: 0.07% (Positive)\n",
      "Return value for portfolio_26: -0.02% (Negative)\n",
      "Return value for portfolio_27: 0.07% (Positive)\n",
      "Return value for portfolio_28: 0.05% (Positive)\n",
      "Return value for portfolio_29: -0.02% (Negative)\n",
      "Return value for portfolio_30: 0.07% (Positive)\n",
      "Return value for portfolio_31: -0.04% (Negative)\n",
      "Return value for portfolio_32: 0.05% (Positive)\n",
      "Return value for portfolio_33: -0.02% (Negative)\n",
      "Return value for portfolio_34: 0.07% (Positive)\n",
      "Return value for portfolio_35: 0.04% (Positive)\n",
      "Return value for portfolio_36: 0.04% (Positive)\n",
      "Return value for portfolio_37: -0.06% (Negative)\n",
      "Return value for portfolio_38: 0.04% (Positive)\n",
      "Return value for portfolio_39: 0.04% (Positive)\n",
      "Return value for portfolio_40: -0.06% (Negative)\n",
      "Return value for portfolio_41: 0.04% (Positive)\n",
      "Return value for portfolio_42: 0.02% (Positive)\n",
      "Return value for portfolio_43: -0.06% (Negative)\n",
      "Return value for portfolio_44: 0.04% (Positive)\n",
      "Return value for portfolio_45: 0.04% (Positive)\n",
      "Return value for portfolio_46: -0.06% (Negative)\n",
      "Return value for portfolio_47: 0.04% (Positive)\n",
      "Return value for portfolio_48: 0.02% (Positive)\n",
      "Return value for portfolio_49: -0.06% (Negative)\n",
      "Return value for portfolio_50: 0.04% (Positive)\n",
      "Return value for portfolio_51: -0.08% (Negative)\n",
      "Return value for portfolio_52: 0.02% (Positive)\n",
      "Return value for portfolio_53: -0.06% (Negative)\n",
      "Return value for portfolio_54: 0.04% (Positive)\n",
      "Return value for portfolio_55: 0.04% (Positive)\n",
      "Return value for portfolio_56: -0.06% (Negative)\n",
      "Return value for portfolio_57: 0.04% (Positive)\n",
      "Return value for portfolio_58: 0.01% (Positive)\n",
      "Return value for portfolio_59: -0.06% (Negative)\n",
      "Return value for portfolio_60: 0.04% (Positive)\n",
      "Return value for portfolio_61: -0.08% (Negative)\n",
      "Return value for portfolio_62: 0.01% (Positive)\n",
      "Return value for portfolio_63: -0.06% (Negative)\n",
      "Return value for portfolio_64: 0.04% (Positive)\n",
      "Return value for portfolio_65: 0.17% (Positive)\n",
      "Return value for portfolio_66: -0.08% (Negative)\n",
      "Return value for portfolio_67: 0.01% (Positive)\n",
      "Return value for portfolio_68: -0.06% (Negative)\n",
      "Return value for portfolio_69: 0.04% (Positive)\n",
      "Return value for portfolio_70: 0.0% (Positive)\n",
      "Return value for portfolio_71: 0.0% (Positive)\n",
      "Return value for portfolio_72: -0.09% (Negative)\n",
      "Return value for portfolio_73: 0.0% (Positive)\n",
      "Return value for portfolio_74: 0.0% (Positive)\n",
      "Return value for portfolio_75: -0.09% (Negative)\n",
      "Return value for portfolio_76: 0.0% (Positive)\n",
      "Return value for portfolio_77: -0.02% (Negative)\n",
      "Return value for portfolio_78: -0.09% (Negative)\n",
      "Return value for portfolio_79: 0.0% (Positive)\n",
      "Return value for portfolio_80: 0.0% (Positive)\n",
      "Return value for portfolio_81: -0.09% (Negative)\n",
      "Return value for portfolio_82: 0.0% (Positive)\n",
      "Return value for portfolio_83: -0.02% (Negative)\n",
      "Return value for portfolio_84: -0.09% (Negative)\n",
      "Return value for portfolio_85: 0.0% (Positive)\n",
      "Return value for portfolio_86: -0.12% (Negative)\n",
      "Return value for portfolio_87: -0.02% (Negative)\n",
      "Return value for portfolio_88: -0.09% (Negative)\n",
      "Return value for portfolio_89: 0.0% (Positive)\n",
      "Return value for portfolio_90: 0.0% (Positive)\n",
      "Return value for portfolio_91: -0.09% (Negative)\n",
      "Return value for portfolio_92: 0.0% (Positive)\n",
      "Return value for portfolio_93: -0.02% (Negative)\n",
      "Return value for portfolio_94: -0.09% (Negative)\n",
      "Return value for portfolio_95: 0.0% (Positive)\n",
      "Return value for portfolio_96: -0.12% (Negative)\n",
      "Return value for portfolio_97: -0.02% (Negative)\n",
      "Return value for portfolio_98: -0.09% (Negative)\n",
      "Return value for portfolio_99: 0.0% (Positive)\n",
      "Return value for portfolio_100: 0.14% (Positive)\n",
      "Return value for portfolio_101: -0.12% (Negative)\n",
      "Return value for portfolio_102: -0.02% (Negative)\n",
      "Return value for portfolio_103: -0.09% (Negative)\n",
      "Return value for portfolio_104: 0.0% (Positive)\n",
      "Return value for portfolio_105: 0.0% (Negative)\n",
      "Return value for portfolio_106: -0.09% (Negative)\n",
      "Return value for portfolio_107: 0.0% (Negative)\n",
      "Return value for portfolio_108: -0.02% (Negative)\n",
      "Return value for portfolio_109: -0.09% (Negative)\n",
      "Return value for portfolio_110: 0.0% (Positive)\n",
      "Return value for portfolio_111: -0.12% (Negative)\n",
      "Return value for portfolio_112: -0.02% (Negative)\n",
      "Return value for portfolio_113: -0.09% (Negative)\n",
      "Return value for portfolio_114: 0.0% (Negative)\n",
      "Return value for portfolio_115: 0.14% (Positive)\n",
      "Return value for portfolio_116: -0.12% (Negative)\n",
      "Return value for portfolio_117: -0.02% (Negative)\n",
      "Return value for portfolio_118: -0.09% (Negative)\n",
      "Return value for portfolio_119: 0.0% (Negative)\n",
      "Return value for portfolio_120: 0.04% (Positive)\n",
      "Return value for portfolio_121: 0.14% (Positive)\n",
      "Return value for portfolio_122: -0.12% (Negative)\n",
      "Return value for portfolio_123: -0.02% (Negative)\n",
      "Return value for portfolio_124: -0.09% (Negative)\n",
      "Return value for portfolio_125: 0.0% (Negative)\n"
     ]
    }
   ],
   "source": [
    "for portfolio, late_portfolio in zip(investments_126.keys(), current_investments.keys()):\n",
    "    aux_late_portfolio = current_investments[late_portfolio]\n",
    "    current_value = sum(aux_late_portfolio['shares'].iloc[i] * aux_late_portfolio['price'].iloc[i] for i in range(len(aux_late_portfolio)))\n",
    "\n",
    "    aux_portfolio = investments_126[portfolio]\n",
    "    buy_amount = sum(aux_portfolio['shares'].iloc[i] * aux_portfolio['price'].iloc[i] for i in range(len(aux_portfolio)))\n",
    "    portfolio_return = (current_value - buy_amount) / buy_amount * 100\n",
    "    sign = \"Positive\" if portfolio_return > 0 else \"Negative\"\n",
    "    print(f\"Return value for {portfolio}: {round(portfolio_return, 2)}% ({sign})\")\n",
    "    list_return.append(portfolio_return)"
   ]
  },
  {
   "cell_type": "code",
   "execution_count": 59,
   "metadata": {
    "collapsed": false,
    "pycharm": {
     "name": "#%%\n"
    }
   },
   "outputs": [
    {
     "name": "stdout",
     "output_type": "stream",
     "text": [
      "Volatility for portfolio_0: 7.37%\n",
      "Volatility for portfolio_1: 6.03%\n",
      "Volatility for portfolio_2: 5.71%\n",
      "Volatility for portfolio_3: 6.49%\n",
      "Volatility for portfolio_4: 5.61%\n",
      "Volatility for portfolio_5: 4.73%\n",
      "Volatility for portfolio_6: 4.38%\n",
      "Volatility for portfolio_7: 5.27%\n",
      "Volatility for portfolio_8: 4.25%\n",
      "Volatility for portfolio_9: 4.08%\n",
      "Volatility for portfolio_10: 4.89%\n",
      "Volatility for portfolio_11: 3.97%\n",
      "Volatility for portfolio_12: 6.05%\n",
      "Volatility for portfolio_13: 4.68%\n",
      "Volatility for portfolio_14: 3.9%\n",
      "Volatility for portfolio_15: 3.51%\n",
      "Volatility for portfolio_16: 3.13%\n",
      "Volatility for portfolio_17: 4.17%\n",
      "Volatility for portfolio_18: 2.96%\n",
      "Volatility for portfolio_19: 2.78%\n",
      "Volatility for portfolio_20: 3.74%\n",
      "Volatility for portfolio_21: 2.64%\n",
      "Volatility for portfolio_22: 5.08%\n",
      "Volatility for portfolio_23: 3.49%\n",
      "Volatility for portfolio_24: 2.58%\n",
      "Volatility for portfolio_25: 2.51%\n",
      "Volatility for portfolio_26: 3.35%\n",
      "Volatility for portfolio_27: 2.4%\n",
      "Volatility for portfolio_28: 4.65%\n",
      "Volatility for portfolio_29: 3.1%\n",
      "Volatility for portfolio_30: 2.39%\n",
      "Volatility for portfolio_31: 6.13%\n",
      "Volatility for portfolio_32: 4.36%\n",
      "Volatility for portfolio_33: 2.9%\n",
      "Volatility for portfolio_34: 2.46%\n",
      "Volatility for portfolio_35: 2.52%\n",
      "Volatility for portfolio_36: 2.08%\n",
      "Volatility for portfolio_37: 3.31%\n",
      "Volatility for portfolio_38: 1.87%\n",
      "Volatility for portfolio_39: 1.68%\n",
      "Volatility for portfolio_40: 2.85%\n",
      "Volatility for portfolio_41: 1.51%\n",
      "Volatility for portfolio_42: 4.35%\n",
      "Volatility for portfolio_43: 2.55%\n",
      "Volatility for portfolio_44: 1.47%\n",
      "Volatility for portfolio_45: 1.38%\n",
      "Volatility for portfolio_46: 2.42%\n",
      "Volatility for portfolio_47: 1.27%\n",
      "Volatility for portfolio_48: 3.91%\n",
      "Volatility for portfolio_49: 2.12%\n",
      "Volatility for portfolio_50: 1.33%\n",
      "Volatility for portfolio_51: 5.5%\n",
      "Volatility for portfolio_52: 3.59%\n",
      "Volatility for portfolio_53: 1.86%\n",
      "Volatility for portfolio_54: 1.54%\n",
      "Volatility for portfolio_55: 1.23%\n",
      "Volatility for portfolio_56: 2.04%\n",
      "Volatility for portfolio_57: 1.23%\n",
      "Volatility for portfolio_58: 3.5%\n",
      "Volatility for portfolio_59: 1.74%\n",
      "Volatility for portfolio_60: 1.4%\n",
      "Volatility for portfolio_61: 5.09%\n",
      "Volatility for portfolio_62: 3.17%\n",
      "Volatility for portfolio_63: 1.51%\n",
      "Volatility for portfolio_64: 1.69%\n",
      "Volatility for portfolio_65: 6.71%\n",
      "Volatility for portfolio_66: 4.77%\n",
      "Volatility for portfolio_67: 2.88%\n",
      "Volatility for portfolio_68: 1.4%\n",
      "Volatility for portfolio_69: 2.06%\n",
      "Volatility for portfolio_70: 2.08%\n",
      "Volatility for portfolio_71: 1.68%\n",
      "Volatility for portfolio_72: 2.92%\n",
      "Volatility for portfolio_73: 1.52%\n",
      "Volatility for portfolio_74: 1.37%\n",
      "Volatility for portfolio_75: 2.5%\n",
      "Volatility for portfolio_76: 1.28%\n",
      "Volatility for portfolio_77: 4.0%\n",
      "Volatility for portfolio_78: 2.2%\n",
      "Volatility for portfolio_79: 1.34%\n",
      "Volatility for portfolio_80: 1.22%\n",
      "Volatility for portfolio_81: 2.12%\n",
      "Volatility for portfolio_82: 1.23%\n",
      "Volatility for portfolio_83: 3.6%\n",
      "Volatility for portfolio_84: 1.84%\n",
      "Volatility for portfolio_85: 1.4%\n",
      "Volatility for portfolio_86: 5.19%\n",
      "Volatility for portfolio_87: 3.29%\n",
      "Volatility for portfolio_88: 1.63%\n",
      "Volatility for portfolio_89: 1.69%\n",
      "Volatility for portfolio_90: 1.28%\n",
      "Volatility for portfolio_91: 1.82%\n",
      "Volatility for portfolio_92: 1.4%\n",
      "Volatility for portfolio_93: 3.23%\n",
      "Volatility for portfolio_94: 1.57%\n",
      "Volatility for portfolio_95: 1.64%\n",
      "Volatility for portfolio_96: 4.81%\n",
      "Volatility for portfolio_97: 2.92%\n",
      "Volatility for portfolio_98: 1.42%\n",
      "Volatility for portfolio_99: 1.98%\n",
      "Volatility for portfolio_100: 6.42%\n",
      "Volatility for portfolio_101: 4.5%\n",
      "Volatility for portfolio_102: 2.65%\n",
      "Volatility for portfolio_103: 1.42%\n",
      "Volatility for portfolio_104: 2.37%\n",
      "Volatility for portfolio_105: 1.52%\n",
      "Volatility for portfolio_106: 1.63%\n",
      "Volatility for portfolio_107: 1.71%\n",
      "Volatility for portfolio_108: 2.92%\n",
      "Volatility for portfolio_109: 1.45%\n",
      "Volatility for portfolio_110: 2.0%\n",
      "Volatility for portfolio_111: 4.45%\n",
      "Volatility for portfolio_112: 2.61%\n",
      "Volatility for portfolio_113: 1.4%\n",
      "Volatility for portfolio_114: 2.36%\n",
      "Volatility for portfolio_115: 6.05%\n",
      "Volatility for portfolio_116: 4.15%\n",
      "Volatility for portfolio_117: 2.36%\n",
      "Volatility for portfolio_118: 1.5%\n",
      "Volatility for portfolio_119: 2.76%\n",
      "Volatility for portfolio_120: 7.68%\n",
      "Volatility for portfolio_121: 5.75%\n",
      "Volatility for portfolio_122: 3.86%\n",
      "Volatility for portfolio_123: 2.17%\n",
      "Volatility for portfolio_124: 1.72%\n",
      "Volatility for portfolio_125: 3.19%\n"
     ]
    }
   ],
   "source": [
    "for elem in investments_126.keys():\n",
    "    values = get_values_from_portfolio(investments_126[elem])\n",
    "    mean = get_mean(values)\n",
    "    std = get_std_from_values(values)\n",
    "    volatility = get_volatility(std, mean)\n",
    "    print(f\"Volatility for {elem}: {round(volatility, 2)}%\")\n",
    "    list_volatility.append(volatility)"
   ]
  },
  {
   "cell_type": "code",
   "execution_count": 60,
   "metadata": {
    "collapsed": false,
    "pycharm": {
     "name": "#%%\n"
    }
   },
   "outputs": [],
   "source": [
    "df_portfolio_allocation['RETURN'] = list_return\n",
    "df_portfolio_allocation['VOLAT'] = list_volatility"
   ]
  },
  {
   "cell_type": "code",
   "execution_count": 61,
   "metadata": {
    "collapsed": false,
    "pycharm": {
     "name": "#%%\n"
    }
   },
   "outputs": [],
   "source": [
    "df_portfolio_allocation.to_csv(\"./files/task_2/portfolio_metrics.csv\", index=False)"
   ]
  },
  {
   "cell_type": "markdown",
   "metadata": {
    "collapsed": false,
    "pycharm": {
     "name": "#%% md\n"
    }
   },
   "source": [
    "# 2.1 Tasks related to investment strategies analysis"
   ]
  },
  {
   "cell_type": "code",
   "execution_count": 69,
   "metadata": {
    "collapsed": false,
    "pycharm": {
     "name": "#%%\n"
    }
   },
   "outputs": [
    {
     "data": {
      "image/png": "[encoded data removed]",
      "text/plain": [
       "<Figure size 640x480 with 1 Axes>"
      ]
     },
     "metadata": {},
     "output_type": "display_data"
    },
    {
     "name": "stdout",
     "output_type": "stream",
     "text": [
      "Mean return: -0.02186198634887946\n",
      "Standard deviation of return: 0.06884379977770783\n",
      "\n",
      "Percentage of positives return values: 43.65079365079365\n",
      "\n",
      "Percentage of negatives return values: 52.38095238095239\n",
      "\n",
      "Percentage of zero return values: 3.968253968253968\n",
      "\n",
      "It is more probable to obtain a negative return.\n"
     ]
    }
   ],
   "source": [
    "import matplotlib.pyplot as plt\n",
    "# Plot the returns for each portfolio using a histogram\n",
    "plt.hist(df_portfolio_allocation['RETURN'], bins=20)\n",
    "plt.xlabel('Returns')\n",
    "plt.ylabel('Frequency')\n",
    "plt.title('Distribution of Returns')\n",
    "plt.show()\n",
    "\n",
    "# Calculate the mean and standard deviation of the returns\n",
    "mean_return = df_portfolio_allocation['RETURN'].mean()\n",
    "std_return = df_portfolio_allocation['RETURN'].std()\n",
    "\n",
    "print('Mean return:', mean_return)\n",
    "print('Standard deviation of return:', std_return)\n",
    "\n",
    "# Analyze the distribution of returns to determine whether it is more probable to obtain a positive or negative return\n",
    "print('\\nPercentage of positives return values:', sum(y>0 for y in list_return)/len(list_return)*100)\n",
    "\n",
    "print('\\nPercentage of negatives return values:', sum(y<0 for y in list_return)/len(list_return)*100)\n",
    "\n",
    "print('\\nPercentage of zero return values:', sum(y==0 for y in list_return)/len(list_return)*100)\n",
    "\n",
    "if mean_return > 0 and df_portfolio_allocation['RETURN'].skew() < 0:\n",
    "    print('\\nIt is more probable to obtain a positive return.')\n",
    "elif mean_return < 0 and df_portfolio_allocation['RETURN'].skew() > 0:\n",
    "    print('\\nIt is more probable to obtain a negative return.')\n",
    "else:\n",
    "    print('\\nIt is equally probable to obtain a positive or negative return.')"
   ]
  },
  {
   "cell_type": "code",
   "execution_count": 71,
   "metadata": {
    "collapsed": false,
    "pycharm": {
     "name": "#%%\n"
    }
   },
   "outputs": [
    {
     "data": {
      "image/png": "[encoded data removed]",
      "text/plain": [
       "<Figure size 640x480 with 1 Axes>"
      ]
     },
     "metadata": {},
     "output_type": "display_data"
    },
    {
     "name": "stdout",
     "output_type": "stream",
     "text": [
      "Correlation coefficient between returns and volatility: -0.09792595165701315\n",
      "There is a negative relationship between returns and volatility, which means that the higher the risk, the lower the obtained return.\n"
     ]
    }
   ],
   "source": [
    "# Plot the returns versus volatility for each portfolio using a scatter plot\n",
    "plt.scatter(df_portfolio_allocation['VOLAT'], df_portfolio_allocation['RETURN'])\n",
    "plt.xlabel('Volatility')\n",
    "plt.ylabel('Returns')\n",
    "plt.title('Returns vs. Volatility')\n",
    "plt.show()\n",
    "\n",
    "# Calculate the correlation coefficient between returns and volatility\n",
    "corr = df_portfolio_allocation['RETURN'].corr(df_portfolio_allocation['VOLAT'])\n",
    "\n",
    "print('Correlation coefficient between returns and volatility:', corr)\n",
    "\n",
    "# Analyze the relationship between returns and volatility\n",
    "if corr > 0:\n",
    "    print('There is a positive relationship between returns and volatility, but it is not always true that the higher the risk, the higher the obtained return is.')\n",
    "elif corr < 0:\n",
    "    print('There is a negative relationship between returns and volatility, which means that the higher the risk, the lower the obtained return.')\n",
    "else:\n",
    "    print('There is no relationship between returns and volatility.')"
   ]
  }
 ],
 "metadata": {
  "kernelspec": {
   "display_name": "Python 3",
   "language": "python",
   "name": "python3"
  },
  "language_info": {
   "codemirror_mode": {
    "name": "ipython",
    "version": 3
   },
   "file_extension": ".py",
   "mimetype": "text/x-python",
   "name": "python",
   "nbconvert_exporter": "python",
   "pygments_lexer": "ipython3",
   "version": "3.10.9"
  }
 },
 "nbformat": 4,
 "nbformat_minor": 0
}
